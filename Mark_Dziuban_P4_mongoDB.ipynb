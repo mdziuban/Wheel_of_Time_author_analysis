{
 "cells": [
  {
   "cell_type": "code",
   "execution_count": 57,
   "metadata": {},
   "outputs": [],
   "source": [
    "from bs4 import BeautifulSoup\n",
    "import json\n",
    "import os\n",
    "\n"
   ]
  },
  {
   "cell_type": "code",
   "execution_count": 3,
   "metadata": {},
   "outputs": [],
   "source": [
    "def get_soup(book_num):\n",
    "    soup = BeautifulSoup(open(\"/Users/markdziuban/Downloads/Wheel_of_Time/Book_html/book{}.html\".format(book_num)), 'html.parser')\n",
    "    return soup"
   ]
  },
  {
   "cell_type": "code",
   "execution_count": 73,
   "metadata": {},
   "outputs": [],
   "source": [
    "the_soup = get_soup(14)"
   ]
  },
  {
   "cell_type": "code",
   "execution_count": 74,
   "metadata": {},
   "outputs": [],
   "source": [
    "book14 = get_text(get_soup(14))"
   ]
  },
  {
   "cell_type": "code",
   "execution_count": 40,
   "metadata": {},
   "outputs": [],
   "source": [
    "def split_chapters(book):\n",
    "    \"\"\" Splits the book and cuts out the middle part of the book, removing the index and glossary\"\"\"\n",
    "    spl_word = 'GLOSSARY'\n",
    "    res = book.partition(spl_word)[2] \n",
    "    #spl_word2 = 'GLOSSARY'\n",
    "    res2 = res.partition(spl_word)[0]\n",
    "    chapters = res2.split(\"CHAPTER\")\n",
    "    return chapters"
   ]
  },
  {
   "cell_type": "code",
   "execution_count": 109,
   "metadata": {},
   "outputs": [],
   "source": [
    "def split_chapter_fourteen(book):\n",
    "    \"\"\" Specifically for book 14.....Splits the book and cuts out the middle part of the book, removing the index and glossary\"\"\"\n",
    "    spl_word = 'PROLOGUE'\n",
    "    res = book.partition(spl_word)[2] \n",
    "    spl_word2 = 'Robert Jordan'\n",
    "    res2 = res.partition(spl_word2)[0]\n",
    "    chapters = res2.split(\"CHAPTER\")\n",
    "    return chapters"
   ]
  },
  {
   "cell_type": "code",
   "execution_count": 110,
   "metadata": {},
   "outputs": [],
   "source": [
    "chaps = split_chapter_fourteen(book14)"
   ]
  },
  {
   "cell_type": "markdown",
   "metadata": {},
   "source": [
    "This part was because book 14 didn't work the first time around and had to be redone.\n",
    "\n",
    "\n",
    "book_dict = {}\n",
    "chapter_dict = {}\n",
    "soup = the_soup\n",
    "book = book14\n",
    "#Create variable for book title\n",
    "title = soup.find('title').text\n",
    "\n",
    "for c, chapter in enumerate(chaps):\n",
    "    #create chapter title\n",
    "    chap_title = c\n",
    "    #assign chapter text to variable\n",
    "    chap_text = chapter\n",
    "    chapter_dict[chap_title] = chap_text\n",
    "#print(book_dict)\n",
    "book_dict[title] = chapter_dict\n",
    "#store book and chapters into json file\n",
    "with open('book13.json'.format(i), 'w', encoding='utf-8') as f:\n",
    "    json.dump(book_dict, f, ensure_ascii=False, indent=4)"
   ]
  },
  {
   "cell_type": "code",
   "execution_count": 32,
   "metadata": {},
   "outputs": [],
   "source": [
    "title = the_soup.find('title').text"
   ]
  },
  {
   "cell_type": "code",
   "execution_count": 33,
   "metadata": {},
   "outputs": [],
   "source": [
    "for i, chapter in enumerate(chapters):\n",
    "    book_chapter = {\n",
    "        'title': title,\n",
    "        'chapter': chapter}\n",
    "    create_json2(book_chapter, i)"
   ]
  },
  {
   "cell_type": "code",
   "execution_count": null,
   "metadata": {},
   "outputs": [],
   "source": []
  },
  {
   "cell_type": "code",
   "execution_count": 47,
   "metadata": {},
   "outputs": [],
   "source": [
    "goal = the_soup.find('a')"
   ]
  },
  {
   "cell_type": "code",
   "execution_count": 48,
   "metadata": {},
   "outputs": [
    {
     "data": {
      "text/plain": [
       "'01 The Eye of the World\\n'"
      ]
     },
     "execution_count": 48,
     "metadata": {},
     "output_type": "execute_result"
    }
   ],
   "source": [
    "goal.text"
   ]
  },
  {
   "cell_type": "code",
   "execution_count": null,
   "metadata": {},
   "outputs": [],
   "source": []
  },
  {
   "cell_type": "code",
   "execution_count": null,
   "metadata": {},
   "outputs": [],
   "source": []
  },
  {
   "cell_type": "code",
   "execution_count": 6,
   "metadata": {},
   "outputs": [],
   "source": [
    "def get_text(soup):    \n",
    "    book_text = ''\n",
    "    for s in range(len(soup.find_all('p'))):\n",
    "        book_text += soup.find_all('p')[s].text\n",
    "    return book_text"
   ]
  },
  {
   "cell_type": "code",
   "execution_count": 7,
   "metadata": {},
   "outputs": [],
   "source": [
    "def get_title(soup):\n",
    "    return soup.find('title').text"
   ]
  },
  {
   "cell_type": "code",
   "execution_count": 8,
   "metadata": {},
   "outputs": [],
   "source": [
    "def create_book(soup):\n",
    "    title = get_title(soup)\n",
    "    book_text = get_text(soup)\n",
    "    book = {\n",
    "    'title': title,\n",
    "    'text': book_text\n",
    "    }\n",
    "    return book"
   ]
  },
  {
   "cell_type": "code",
   "execution_count": 9,
   "metadata": {},
   "outputs": [],
   "source": [
    "def create_json(soup, i):\n",
    "    book = create_book(soup)\n",
    "    with open('book{}.json'.format(i), 'w', encoding='utf-8') as f:\n",
    "        json.dump(book, f, ensure_ascii=False, indent=4)\n"
   ]
  },
  {
   "cell_type": "code",
   "execution_count": 10,
   "metadata": {},
   "outputs": [],
   "source": [
    "def create_json2(chapter, i):\n",
    "    with open('chapter{}.json'.format(i), 'w', encoding='utf-8') as f:\n",
    "        json.dump(chapter, f, ensure_ascii=False, indent=4)"
   ]
  },
  {
   "cell_type": "code",
   "execution_count": 53,
   "metadata": {},
   "outputs": [],
   "source": [
    "num_of_books = 14\n",
    "\n",
    "for i in range(num_of_books-1):\n",
    "    soup = get_soup(i+1)\n",
    "    create_json(soup, i)"
   ]
  },
  {
   "cell_type": "code",
   "execution_count": 54,
   "metadata": {},
   "outputs": [],
   "source": [
    "import os"
   ]
  },
  {
   "cell_type": "code",
   "execution_count": null,
   "metadata": {},
   "outputs": [],
   "source": [
    "jsondata = {}\n",
    "title={}\n",
    "content={}\n",
    "title['title'] = soup.find('title').text\n",
    "content['eventType'] = 'view'\n",
    "content['othervar'] = \"new\"\n",
    "\n",
    "jsondata['agent'] = agent\n",
    "jsondata['content'] = content\n",
    "print(json.dumps(jsondata))"
   ]
  },
  {
   "cell_type": "code",
   "execution_count": 64,
   "metadata": {},
   "outputs": [],
   "source": [
    "num_of_books = 14\n",
    "\n",
    "# for i in range(num_of_books-1):\n",
    "#     soup = get_soup(i+1)\n",
    "#     create_json(soup, i)\n",
    "\n",
    "\n",
    "\n",
    "def build_collection(num_of_books):\n",
    "    for i in range(num_of_books):\n",
    "        book_dict = {}\n",
    "        chapter_dict = {}\n",
    "        soup = get_soup(i+1)\n",
    "        book = get_text(soup)\n",
    "        #Create variable for book title\n",
    "        title = soup.find('title').text\n",
    "        #print(title)\n",
    "        #Split book into chapters\n",
    "        if i <= 12:\n",
    "            chapters = split_chapters(book)\n",
    "        else:\n",
    "            chapters = split_chapter_fourteen(book)\n",
    "        #loop through each chapter in the book\n",
    "        for c, chapter in enumerate(chapters):\n",
    "            #create chapter title\n",
    "            chap_title = c\n",
    "            #assign chapter text to variable\n",
    "            chap_text = chapter\n",
    "            chapter_dict[chap_title] = chap_text\n",
    "        #print(book_dict)\n",
    "        book_dict[title] = chapter_dict\n",
    "        #store book and chapters into json file\n",
    "        with open('book{}.json'.format(i), 'w', encoding='utf-8') as f:\n",
    "            json.dump(book_dict, f, ensure_ascii=False, indent=4)\n",
    "        #add book to collection  \n",
    "            "
   ]
  },
  {
   "cell_type": "code",
   "execution_count": 54,
   "metadata": {},
   "outputs": [],
   "source": [
    "build_collection(num_of_books)"
   ]
  },
  {
   "cell_type": "code",
   "execution_count": 71,
   "metadata": {},
   "outputs": [],
   "source": [
    "\n",
    "def to_mongo(num_of_books):\n",
    "    for i in range(num_of_books):\n",
    "        os.system('mongoimport --db wheel_of_time --collection book{} --file /Users/markdziuban/Desktop/workspace/book{}.json'.format(i+1,i))"
   ]
  },
  {
   "cell_type": "code",
   "execution_count": 72,
   "metadata": {},
   "outputs": [],
   "source": [
    "to_mongo(14)"
   ]
  },
  {
   "cell_type": "code",
   "execution_count": null,
   "metadata": {},
   "outputs": [],
   "source": []
  }
 ],
 "metadata": {
  "kernelspec": {
   "display_name": "Python [conda env:metis] *",
   "language": "python",
   "name": "conda-env-metis-py"
  },
  "language_info": {
   "codemirror_mode": {
    "name": "ipython",
    "version": 3
   },
   "file_extension": ".py",
   "mimetype": "text/x-python",
   "name": "python",
   "nbconvert_exporter": "python",
   "pygments_lexer": "ipython3",
   "version": "3.7.4"
  }
 },
 "nbformat": 4,
 "nbformat_minor": 4
}
